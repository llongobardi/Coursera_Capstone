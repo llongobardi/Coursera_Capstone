{
 "cells": [
  {
   "cell_type": "markdown",
   "metadata": {},
   "source": [
    "# Introduction and Business Problem"
   ]
  },
  {
   "cell_type": "markdown",
   "metadata": {},
   "source": [
    "## Context\n",
    "We want to open a new restaurant in city in Italy, Riccione. While this town is quite small (35K inhabitants), it is a vary famous holiday location during summer among both younger people, looking to have fun, and families, looking for some peace and quiet at the beach.\n",
    "\n",
    "## Town Morphology\n",
    "Riccione is traversed by two main streets, where the highes number of places are situated. Those streets, named Viale Dante and Viale Ceccarini, cross themselfs at the end of each other (forming a big T) while Viale Dante is parallel to the sea. On top of that, since we are in a marine location, the highest number of places is situated near the sea and the harbor. On the other hand the outback is still rich in places, while having a lower density.\n",
    "\n",
    "## People Abitudes\n",
    "If the town is so little, then each place is so close to every other so that people always choose the best place to eat, right? Wrong! In summer the town is practically impossible to navigate using a car, either due to heavy traffic load or lack of physical space where to park (belive it or not). This means that people tend to visit places that are quite near the Hotel where they stay. This concept is very important to understand why we choose one approach and why the result is satisfying.\n",
    "\n",
    "## Goal\n",
    "In the end the goal is to find one or more small areas dsd"
   ]
  }
 ],
 "metadata": {
  "kernelspec": {
   "display_name": "Python 3",
   "language": "python",
   "name": "python3"
  },
  "language_info": {
   "codemirror_mode": {
    "name": "ipython",
    "version": 3
   },
   "file_extension": ".py",
   "mimetype": "text/x-python",
   "name": "python",
   "nbconvert_exporter": "python",
   "pygments_lexer": "ipython3",
   "version": "3.6.6"
  }
 },
 "nbformat": 4,
 "nbformat_minor": 2
}
