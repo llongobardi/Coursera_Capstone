{
 "cells": [
  {
   "cell_type": "markdown",
   "metadata": {},
   "source": [
    "# Description of the data set\n",
    "## Source\n",
    "\n",
    "The data set will be provided via foursquare api, and will be such that, given a place location, we have a value that represents how much the place is appreciated by people."
   ]
  },
  {
   "cell_type": "markdown",
   "metadata": {},
   "source": [
    "## Examples\n",
    "\n",
    "Here we have a bare example of what data we need, related to a place, to perform our analysis\n",
    "\n",
    "| **Name**                 | **Latitude**  | **Longitude** | **Rating** |\n",
    "|----------------------|-----------|-----------|--------|\n",
    "| Locanda della luna   | 44.011014 | 12.632975 | 8.1    |\n",
    "| La Fattoria del mare | 44.016893 | 12.641178 | 7.9    |"
   ]
  },
  {
   "cell_type": "markdown",
   "metadata": {},
   "source": [
    "## How to retrieve the data\n",
    "\n",
    "How do we retrieve the data, considering that the town is not circular (since it is near the sea)? How do we capture exactly the bounds of the town without considering places from nearby citiesThe idea behind the process is to bound our research "
   ]
  }
 ],
 "metadata": {
  "kernelspec": {
   "display_name": "Python 3",
   "language": "python",
   "name": "python3"
  },
  "language_info": {
   "codemirror_mode": {
    "name": "ipython",
    "version": 3
   },
   "file_extension": ".py",
   "mimetype": "text/x-python",
   "name": "python",
   "nbconvert_exporter": "python",
   "pygments_lexer": "ipython3",
   "version": "3.6.6"
  }
 },
 "nbformat": 4,
 "nbformat_minor": 2
}
